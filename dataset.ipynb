{
 "cells": [
  {
   "cell_type": "code",
   "execution_count": 1,
   "id": "13bb5913-a064-4ea1-8ee4-f0ae995b8fa0",
   "metadata": {},
   "outputs": [],
   "source": [
    "import pandas as pd\n",
    "import json\n",
    "\n",
    "# Load your dataset (replace with your dataset path)\n",
    "df = pd.read_csv('193k.csv')"
   ]
  },
  {
   "cell_type": "code",
   "execution_count": 2,
   "id": "7c1a4f55-1845-4489-bf55-0e9a548b57df",
   "metadata": {},
   "outputs": [
    {
     "name": "stdout",
     "output_type": "stream",
     "text": [
      "Dapur Berkah — Food Charity Website Case Study\n",
      "\n",
      "\n",
      "\n",
      "\n",
      "Solution\n",
      "\n",
      "Prototype — user test — iterate (design)\n",
      "\n",
      "We conducted a user-test for 5 people to experience the 75% done prototype. The reason being is to dig out input that not only covers the usability, effectiveness but also understanding of content (text, picture) which were done towards the end. But I left room for iteration.\n",
      "\n",
      "User Test Method\n",
      "\n",
      "The user-test process consists of 5 minutes brief background introduction — 10 minutes site exploration walkthrough(impression and trustworthiness) — 30 minutes of feature/section spotting walkthrough with specific instruction — 5 minutes post-test (rate on ease of use, information testing, and program preference)\n",
      "\n",
      "The pictures below are taken from the live site, which appears similar to the final prototype.\n",
      "\n",
      "1. Main Task easy navigation — Donate\n",
      "\n",
      "The donation button needs to stand out.\n",
      "\n",
      "The test proves easy spotting and navigation to donate. The previous sliding donation amount tool is scrapped off for giving lesser control over the number aimed compared to conventional manual insert number.\n",
      "\n",
      "Before (from prototype)\n",
      "\n",
      "After (live site)\n",
      "\n",
      "2. The element of trust:\n",
      "\n",
      "2.a. Data\n",
      "\n",
      "Data transparency such as financial reports and statistical progress are made prominent on the main tab menu. Users can track not only the yearly but monthly progress. The team profile is elaborate and uses real pictures for accountability.\n",
      "\n",
      "They prove to be the first go-to pages when users were asked to bet on the foundation’s accountability.\n",
      "\n",
      "2.b. Field documentation\n",
      "\n",
      "In-field people photos populate the site to give a clearer idea of the field situation. Selected interviews with beneficiaries and donors were put with links to channels with more dynamic documentation.\n",
      "\n",
      "Despite having had photo sessions, 2 out of 4 mentioned the need for more so after selection we added more.\n",
      "\n",
      "3. Clarity of the foundation\n",
      "\n",
      "Succinct program elaboration is as important as reading a product label before purchase so that users can assess which program suits their personal calling.\n",
      "\n",
      "One experience that annoys people with multiple program pages, is the number of clicks needed to go back and forth. Between the dropdown menu and clickable program section, I chose the latter. The program title is a little quirky and not as well known for first time user. Drop-down made users wonder what they are going to click, as opposed to laying them on the program with heavier affinity with the pictures. To not make users click so much I counter that with sub-tabs for every subprogram.\n",
      "\n",
      "To my observation, users use them sometimes to shift from one program to the other, but their safe bet is to click on the program.\n",
      "\n",
      "4. Effect in society\n",
      "\n",
      "As food aid is still heavily associated with an emergency rather than a regular need, the impact is not as well-aware. This site makes the connection clearer: Regular free meal for informal workers allows them to spare more.\n",
      "\n",
      "The beneficiaries shared their background and perspective on lunch expense and how it helps, and I placed the sliding conversation on the home page.\n",
      "\n",
      "Aside from 10 testimony on home pages that covers beneficiaries’ story and spared expense, I made the “Why” button that can be divided into two, why food and why Dapur Berkah. I split them as each can generate more information later on. A lot of illustrations meant to turn dry numbers more digestible.\n",
      "\n",
      "Users tested go to this page when asked to understand better about Dapur Berkah.\n",
      "\n",
      "How Rp10.000 helps\n",
      "\n",
      "What can the sum of spared money be allocated into?\n",
      "\n",
      "Why not help in cash?\n",
      "\n",
      "Extra and accent\n",
      "\n",
      "Rp10.000 is equivalent to one free meal distributed. We wanted to emphasize that being charitable is simple and easy, so I made this section to show expense comparison with a menial purchase that could translate into free meal donated.\n",
      "\n",
      "Design aside, the test also shows lists of potentially misleading wording, which is very helpful.\n",
      "\n",
      "Lessons learned\n",
      "\n",
      "I encountered difficulty on the asset hand-off, as the Adobe XD the link gives unmatched asset size to what appears on the developer builds. It turned out to be oddly common across the XD users, as shown on the adobe forum. I was lucky I had a chance to work with a patient and big-time learner developer that understands my first-time role here, as he himself encountered technical restraint to solve, as this project was entirely built from the scratch and it was new for both him and me. I resort to using Figma next time.\n",
      "\n",
      "There were a couple of ideas dear to stakeholder and designer that has to be scrapped off upon poor test result. It was good learning to stay objective and see the bigger picture.\n",
      "\n",
      "I also learned that clear communication and promptness to do so is a crucial thing, as the late address of matters could potentially snowball into an inefficient loop of work on both sides.\n"
     ]
    }
   ],
   "source": [
    "print(df.iloc[100].title)\n",
    "print('\\n\\n\\n')\n",
    "print(df.iloc[100].text)"
   ]
  },
  {
   "cell_type": "code",
   "execution_count": 3,
   "id": "c752e540-6275-47a9-8385-dbe4a8200641",
   "metadata": {},
   "outputs": [],
   "source": [
    "df1 = df.head(50000)"
   ]
  },
  {
   "cell_type": "code",
   "execution_count": 4,
   "id": "06319054-8149-4122-aa22-7e835b84728f",
   "metadata": {},
   "outputs": [],
   "source": [
    "#converting input \n",
    "\n",
    "output_list = []\n",
    "for i in range(len(df1)):\n",
    "    message_dict = {\n",
    "        \"messages\": [\n",
    "            {\"role\": \"system\", \"content\": \"Provide 1-2 line titles for articles\"},\n",
    "            {\"role\": \"user\", \"content\": df.iloc[i].text},\n",
    "            {\"role\": \"assistant\", \"content\": df.iloc[i].title}\n",
    "        ]\n",
    "    }\n",
    "    output_list.append(message_dict)"
   ]
  },
  {
   "cell_type": "code",
   "execution_count": 5,
   "id": "d48666e6-dff7-44df-b84e-8f1386f92346",
   "metadata": {},
   "outputs": [
    {
     "data": {
      "text/plain": [
       "50000"
      ]
     },
     "execution_count": 5,
     "metadata": {},
     "output_type": "execute_result"
    }
   ],
   "source": [
    "len(output_list)"
   ]
  },
  {
   "cell_type": "code",
   "execution_count": 6,
   "id": "ebab8c4a-554b-4541-8e50-70c2d5ef23fc",
   "metadata": {},
   "outputs": [],
   "source": [
    "with open('articles_trimmed_new_1.jsonl', 'w') as f:\n",
    "    for entry in output_list:\n",
    "        f.write(json.dumps(entry) + '\\n')\n"
   ]
  },
  {
   "cell_type": "code",
   "execution_count": null,
   "id": "9557d903-9bb8-4d39-b19a-416abaae5924",
   "metadata": {},
   "outputs": [],
   "source": [
    "'''# Open a file to write the JSONL data\n",
    "with open('articles_dataset.jsonl', 'w') as outfile:\n",
    "    for index, row in df.iterrows():\n",
    "        # Format the prompt and completion\n",
    "        prompt = f\"Title: {row['title']}\\n\\n\"\n",
    "        completion = f\"{row['text']}\\n\"\n",
    "        \n",
    "        # Create a dictionary with prompt and completion\n",
    "        data = {\"prompt\": prompt, \"completion\": completion}\n",
    "        \n",
    "        # Write the dictionary as a JSON line to the file\n",
    "        json.dump(data, outfile)\n",
    "        outfile.write(\"\\n\")\n",
    "'''"
   ]
  },
  {
   "cell_type": "code",
   "execution_count": 1,
   "id": "2b84198d-51d1-4326-86b1-62a9454331d5",
   "metadata": {},
   "outputs": [
    {
     "data": {
      "text/plain": [
       "'\\n\\n\\n{\"messages\": [{\"role\": \"system\", \"content\": \"You are a happy assistant that puts a positive spin on everything.\"}, {\"role\": \"user\", \"content\": \"I fell off my bike today.\"}, {\"role\": \"assistant\", \"content\": \"It\\'s great that you\\'re getting exercise outdoors!\"}]}\\n\\n'"
      ]
     },
     "execution_count": 1,
     "metadata": {},
     "output_type": "execute_result"
    }
   ],
   "source": [
    "'''\n",
    "\n",
    "\n",
    "{\"messages\": [{\"role\": \"system\", \"content\": \"You are a happy assistant that puts a positive spin on everything.\"}, {\"role\": \"user\", \"content\": \"I fell off my bike today.\"}, {\"role\": \"assistant\", \"content\": \"It's great that you're getting exercise outdoors!\"}]}\n",
    "\n",
    "'''"
   ]
  }
 ],
 "metadata": {
  "kernelspec": {
   "display_name": "Python 3 (ipykernel)",
   "language": "python",
   "name": "python3"
  },
  "language_info": {
   "codemirror_mode": {
    "name": "ipython",
    "version": 3
   },
   "file_extension": ".py",
   "mimetype": "text/x-python",
   "name": "python",
   "nbconvert_exporter": "python",
   "pygments_lexer": "ipython3",
   "version": "3.12.4"
  }
 },
 "nbformat": 4,
 "nbformat_minor": 5
}
